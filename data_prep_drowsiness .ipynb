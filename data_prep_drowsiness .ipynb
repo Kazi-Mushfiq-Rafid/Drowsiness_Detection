{
 "cells": [
  {
   "cell_type": "code",
   "execution_count": 1,
   "metadata": {},
   "outputs": [],
   "source": [
    "import os\n",
    "import glob\n",
    "import shutil\n",
    "import random\n",
    "from tqdm import tqdm"
   ]
  },
  {
   "cell_type": "code",
   "execution_count": 3,
   "metadata": {},
   "outputs": [
    {
     "name": "stderr",
     "output_type": "stream",
     "text": [
      "0it [00:00, ?it/s]\n",
      "100%|█████████████████████████████████████████████████████████████████████████████| 3242/3242 [00:24<00:00, 131.73it/s]\n",
      "100%|█████████████████████████████████████████████████████████████████████████████| 1114/1114 [00:08<00:00, 130.09it/s]\n",
      "100%|███████████████████████████████████████████████████████████████████████████████| 679/679 [00:05<00:00, 131.93it/s]\n",
      "100%|█████████████████████████████████████████████████████████████████████████████| 1069/1069 [00:08<00:00, 132.87it/s]\n",
      "100%|███████████████████████████████████████████████████████████████████████████████| 736/736 [00:05<00:00, 135.94it/s]\n",
      "100%|█████████████████████████████████████████████████████████████████████████████| 1012/1012 [00:07<00:00, 133.18it/s]\n",
      "100%|███████████████████████████████████████████████████████████████████████████████| 624/624 [00:04<00:00, 130.42it/s]\n",
      "100%|███████████████████████████████████████████████████████████████████████████████| 832/832 [00:06<00:00, 132.85it/s]\n",
      "100%|███████████████████████████████████████████████████████████████████████████████| 387/387 [00:02<00:00, 134.22it/s]\n",
      "100%|███████████████████████████████████████████████████████████████████████████████| 399/399 [00:02<00:00, 133.10it/s]\n",
      "100%|█████████████████████████████████████████████████████████████████████████████| 1648/1648 [00:12<00:00, 132.58it/s]\n",
      "100%|█████████████████████████████████████████████████████████████████████████████| 8728/8728 [01:07<00:00, 129.32it/s]\n",
      "100%|█████████████████████████████████████████████████████████████████████████████| 3605/3605 [00:27<00:00, 131.84it/s]\n",
      "100%|█████████████████████████████████████████████████████████████████████████████| 8884/8884 [01:10<00:00, 126.86it/s]\n",
      "100%|█████████████████████████████████████████████████████████████████████████████| 1132/1132 [00:09<00:00, 125.43it/s]\n",
      "100%|█████████████████████████████████████████████████████████████████████████████| 1889/1889 [00:14<00:00, 126.93it/s]\n",
      "100%|█████████████████████████████████████████████████████████████████████████████| 1648/1648 [00:15<00:00, 106.05it/s]\n",
      "100%|█████████████████████████████████████████████████████████████████████████████| 4410/4410 [00:40<00:00, 109.20it/s]\n",
      "100%|█████████████████████████████████████████████████████████████████████████████| 6175/6175 [00:58<00:00, 106.23it/s]\n",
      "100%|███████████████████████████████████████████████████████████████████████████████| 704/704 [00:06<00:00, 106.62it/s]\n",
      "100%|███████████████████████████████████████████████████████████████████████████████| 987/987 [00:09<00:00, 105.67it/s]\n",
      "100%|███████████████████████████████████████████████████████████████████████████████| 382/382 [00:03<00:00, 105.41it/s]\n",
      "100%|███████████████████████████████████████████████████████████████████████████████| 522/522 [00:05<00:00, 104.34it/s]\n",
      "100%|███████████████████████████████████████████████████████████████████████████████| 752/752 [00:07<00:00, 106.43it/s]\n",
      "100%|█████████████████████████████████████████████████████████████████████████████| 1502/1502 [00:14<00:00, 105.83it/s]\n",
      "100%|█████████████████████████████████████████████████████████████████████████████| 1246/1246 [00:11<00:00, 107.12it/s]\n",
      "100%|███████████████████████████████████████████████████████████████████████████████| 665/665 [00:06<00:00, 103.42it/s]\n",
      "100%|███████████████████████████████████████████████████████████████████████████████| 736/736 [00:07<00:00, 104.77it/s]\n",
      "100%|█████████████████████████████████████████████████████████████████████████████| 1393/1393 [00:13<00:00, 101.63it/s]\n",
      "100%|█████████████████████████████████████████████████████████████████████████████| 1384/1384 [00:13<00:00, 101.22it/s]\n",
      "100%|█████████████████████████████████████████████████████████████████████████████| 1738/1738 [00:16<00:00, 103.95it/s]\n",
      "100%|█████████████████████████████████████████████████████████████████████████████| 6162/6162 [01:00<00:00, 102.04it/s]\n",
      "100%|███████████████████████████████████████████████████████████████████████████████| 681/681 [00:06<00:00, 102.06it/s]\n",
      "100%|███████████████████████████████████████████████████████████████████████████████| 739/739 [00:07<00:00, 101.17it/s]\n",
      "100%|████████████████████████████████████████████████████████████████████████████████| 642/642 [00:06<00:00, 98.44it/s]\n",
      "100%|██████████████████████████████████████████████████████████████████████████████| 6193/6193 [01:02<00:00, 99.26it/s]\n",
      "100%|███████████████████████████████████████████████████████████████████████████| 10257/10257 [01:41<00:00, 101.38it/s]\n"
     ]
    }
   ],
   "source": [
    "raw_data = \n",
    "for dirpath, dirname, filename in os.walk(raw_data):\n",
    "    for file in tqdm([f for f in filename if f.endswith('.png')]):\n",
    "        if file.split('_')[4] == '0':\n",
    "            path=r'C:\\Users\\abirr\\Desktop\\New folder (2)\\dataset\\train\\open'\n",
    "            if not os.path.exists(path):\n",
    "                os.makedirs(path)\n",
    "            shutil.copy(src=dirpath + '/' + file, dst= path)\n",
    "        elif file.split('_')[4] == '1':\n",
    "            path=r'C:\\Users\\abirr\\Desktop\\New folder (2)\\dataset\\train\\close'\n",
    "            if not os.path.exists(path):\n",
    "                os.makedirs(path)\n",
    "            shutil.copy(src=dirpath + '/' + file, dst= path)        "
   ]
  },
  {
   "cell_type": "code",
   "execution_count": 11,
   "metadata": {},
   "outputs": [
    {
     "name": "stdout",
     "output_type": "stream",
     "text": [
      "########### Train Test Val Script started ###########\n",
      "$$$$$$$ Class Name close $$$$$$$\n",
      "Total images: 41946\n",
      "Training: 33556\n",
      "Validation: 8390\n",
      "Testing: 0\n",
      "$$$$$$$ Class Name open $$$$$$$\n",
      "Total images: 42952\n",
      "Training: 34361\n",
      "Validation: 8591\n",
      "Testing: 0\n",
      "########### Train Test Val Script Ended ###########\n"
     ]
    }
   ],
   "source": [
    "import os\n",
    "import numpy as np\n",
    "import shutil\n",
    "import pandas as pd\n",
    "\n",
    "\n",
    "def train_test_split():\n",
    "    print(\"########### Train Test Val Script started ###########\")\n",
    "    #data_csv = pd.read_csv(\"DataSet_Final.csv\") ##Use if you have classes saved in any .csv file\n",
    "\n",
    "    root_dir = r'C:\\Users\\abirr\\Desktop\\New folder (2)\\updatedataset'\n",
    "    classes_dir = ['close', 'open']\n",
    "\n",
    "    #for name in data_csv['names'].unique()[:10]:\n",
    "    #    classes_dir.append(name)\n",
    "\n",
    "    processed_dir = r'C:\\Users\\abirr\\Desktop\\New folder (2)\\dataset'\n",
    "\n",
    "    val_ratio = 0\n",
    "    test_ratio = 0.20\n",
    "\n",
    "    for cls in classes_dir:\n",
    "        # Creating partitions of the data after shuffeling\n",
    "        print(\"$$$$$$$ Class Name \" + cls + \" $$$$$$$\")\n",
    "        src = processed_dir +\"//\" + cls  # Folder to copy images from\n",
    "\n",
    "        allFileNames = os.listdir(src)\n",
    "        np.random.shuffle(allFileNames)\n",
    "        train_FileNames, val_FileNames, test_FileNames = np.split(np.array(allFileNames),\n",
    "                                                                  [int(len(allFileNames) * (1 - (val_ratio + test_ratio))),\n",
    "                                                                   int(len(allFileNames) * (1 - val_ratio)),\n",
    "                                                                   ])\n",
    "\n",
    "        train_FileNames = [src + '//' + name for name in train_FileNames.tolist()]\n",
    "        val_FileNames = [src + '//' + name for name in val_FileNames.tolist()]\n",
    "        test_FileNames = [src + '//' + name for name in test_FileNames.tolist()]\n",
    "\n",
    "        print('Total images: '+ str(len(allFileNames)))\n",
    "        print('Training: '+ str(len(train_FileNames)))\n",
    "        print('Validation: '+  str(len(val_FileNames)))\n",
    "        print('Testing: '+ str(len(test_FileNames)))\n",
    "\n",
    "        # # Creating Train / Val / Test folders (One time use)\n",
    "        os.makedirs(root_dir + '/train//' + cls)\n",
    "        os.makedirs(root_dir + '/val//' + cls)\n",
    "        os.makedirs(root_dir + '/test//' + cls)\n",
    "\n",
    "        # Copy-pasting images\n",
    "        for name in train_FileNames:\n",
    "            shutil.copy(name, root_dir + '/train//' + cls)\n",
    "\n",
    "        for name in val_FileNames:\n",
    "            shutil.copy(name, root_dir + '/val//' + cls)\n",
    "\n",
    "        for name in test_FileNames:\n",
    "            shutil.copy(name, root_dir + '/test//' + cls)\n",
    "\n",
    "    print(\"########### Train Test Val Script Ended ###########\")\n",
    "\n",
    "train_test_split()"
   ]
  },
  {
   "cell_type": "markdown",
   "metadata": {},
   "source": [
    "##### def create_test_closed(source, destination, percent):\n",
    "    '''\n",
    "    divides closed eyes images into given percent and moves from\n",
    "    source to destination.\n",
    "    \n",
    "    Arguments:\n",
    "    source(path): path of source directory\n",
    "    destination(path): path of destination directory\n",
    "    percent(float): percent of data to be divided(range: 0 to 1)\n",
    "    '''\n",
    "    path, dirs, files_closed = next(os.walk(source))\n",
    "    file_count_closed = len(files_closed)\n",
    "    percentage = file_count_closed * percent\n",
    "    to_move = random.sample(glob.glob(source + \"/*.png\"), int(percentage))\n",
    "\n",
    "    for f in enumerate(to_move):\n",
    "        if not os.path.exists(destination):\n",
    "            os.makedirs(destination)\n",
    "        shutil.move(f[1], destination)\n",
    "    print(f'moved {int(percentage)} images to the destination successfully.')    "
   ]
  },
  {
   "cell_type": "code",
   "execution_count": 8,
   "metadata": {},
   "outputs": [],
   "source": [
    "def create_test_open(source, destination, percent):\n",
    "    '''\n",
    "    divides open eyes images into given percent and moves from\n",
    "    source to destination.\n",
    "    \n",
    "    Arguments:\n",
    "    source(path): path of source directory\n",
    "    destination(path): path of destination directory\n",
    "    percent(float): percent of data to be divided(range: 0 to 1)\n",
    "    '''\n",
    "    path, dirs, files_open = next(os.walk(source))\n",
    "    file_count_open = len(files_open)\n",
    "    percentage = file_count_open * percent\n",
    "    to_move = random.sample(glob.glob(source + \"/*.png\"), int(percentage))\n",
    "\n",
    "    for f in enumerate(to_move):\n",
    "        if not os.path.exists(destination):\n",
    "            os.makedirs(destination)\n",
    "        shutil.move(f[1], destination)\n",
    "    print(f'moved {int(percentage)} images to the destination successfully.')"
   ]
  },
  {
   "cell_type": "code",
   "execution_count": 9,
   "metadata": {},
   "outputs": [
    {
     "name": "stdout",
     "output_type": "stream",
     "text": [
      "moved 0 images to the destination successfully.\n"
     ]
    }
   ],
   "source": [
    "create_test_closed(r'C:\\Users\\abirr\\Desktop\\New folder (2)\\updatedataset\\train\\close', \n",
    "                    r'C:\\Users\\abirr\\Desktop\\New folder (2)\\updatedataset\\test\\close', \n",
    "                    0.2)"
   ]
  },
  {
   "cell_type": "code",
   "execution_count": 6,
   "metadata": {},
   "outputs": [
    {
     "name": "stdout",
     "output_type": "stream",
     "text": [
      "moved 0 images to the destination successfully.\n"
     ]
    }
   ],
   "source": [
    "create_test_open(r'C:\\Users\\abirr\\Desktop\\New folder (2)\\updatedataset\\train\\open', \n",
    "                    r'C:\\Users\\abirr\\Desktop\\New folder (2)\\updatedataset\\test\\open', \n",
    "                    0.2)"
   ]
  },
  {
   "cell_type": "code",
   "execution_count": null,
   "metadata": {},
   "outputs": [],
   "source": [
    "C:\\Users\\abirr\\Desktop\\New folder (2)\\updatedataset\\test\\open"
   ]
  }
 ],
 "metadata": {
  "kernelspec": {
   "display_name": "Python 3",
   "language": "python",
   "name": "python3"
  },
  "language_info": {
   "codemirror_mode": {
    "name": "ipython",
    "version": 3
   },
   "file_extension": ".py",
   "mimetype": "text/x-python",
   "name": "python",
   "nbconvert_exporter": "python",
   "pygments_lexer": "ipython3",
   "version": "3.8.8"
  }
 },
 "nbformat": 4,
 "nbformat_minor": 4
}
