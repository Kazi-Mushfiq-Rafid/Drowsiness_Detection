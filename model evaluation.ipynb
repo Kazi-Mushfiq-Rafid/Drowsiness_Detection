{
 "cells": [
  {
   "cell_type": "code",
   "execution_count": 1,
   "id": "54300e02",
   "metadata": {},
   "outputs": [],
   "source": [
    "from keras.models import load_model\n",
    "from keras.preprocessing import image\n",
    "import matplotlib.pyplot as plt\n",
    "import numpy as np\n",
    "import os\n",
    "\n",
    "\n",
    "def load_image(img_path, show=False):\n",
    "\n",
    "    img = image.load_img(img_path, target_size=(80, 80))\n",
    "    img_tensor = image.img_to_array(img)                    # (height, width, channels)\n",
    "    img_tensor = np.expand_dims(img_tensor, axis=0)         # (1, height, width, channels), add a dimension because the model expects this shape: (batch_size, height, width, channels)\n",
    "    img_tensor /= 255.                                      # imshow expects values in the range [0, 1]\n",
    "\n",
    "    if show:\n",
    "        plt.imshow(img_tensor[0])                           \n",
    "        plt.axis('off')\n",
    "        plt.show()\n",
    "\n",
    "    return img_tensor\n",
    "\n",
    "\n",
    "if __name__ == \"__main__\":\n",
    "\n",
    "    # load model\n",
    "    model = load_model(\"model.h5\")\n",
    "\n",
    "    # image path\n",
    "    img_path = r'C:\\Users\\abirr\\Desktop\\New folder (2)\\updatedataset\\test\\open\\s0001_01914_0_0_1_0_0_01.png'    # dog\n",
    "    #img_path = '/media/data/dogscats/test1/19.jpg'      # cat\n",
    "\n",
    "    # load a single image\n",
    "    new_image = load_image(img_path)\n",
    "\n",
    "    # check prediction\n",
    "    pred = model.predict(new_image)"
   ]
  },
  {
   "cell_type": "code",
   "execution_count": null,
   "id": "0f956ef7",
   "metadata": {},
   "outputs": [],
   "source": [
    "pred "
   ]
  },
  {
   "cell_type": "code",
   "execution_count": null,
   "id": "b4236cb0",
   "metadata": {},
   "outputs": [],
   "source": [
    "pred=np.round(abs(pred))\n",
    "pred = (pred > 0.3) "
   ]
  },
  {
   "cell_type": "code",
   "execution_count": null,
   "id": "4f5bf943",
   "metadata": {},
   "outputs": [],
   "source": [
    "pred"
   ]
  },
  {
   "cell_type": "code",
   "execution_count": null,
   "id": "b0e2679a",
   "metadata": {},
   "outputs": [],
   "source": []
  },
  {
   "cell_type": "code",
   "execution_count": null,
   "id": "6103c029",
   "metadata": {},
   "outputs": [],
   "source": [
    "from keras.models import load_model\n",
    "from keras.preprocessing import image\n",
    "import matplotlib.pyplot as plt\n",
    "import numpy as np\n",
    "import os\n",
    "\n",
    "\n",
    "def load_image(img_path, show=False):\n",
    "\n",
    "    img = image.load_img(img_path, target_size=(80, 80))\n",
    "    img_tensor = image.img_to_array(img)                    # (height, width, channels)\n",
    "    img_tensor = np.expand_dims(img_tensor, axis=0)         # (1, height, width, channels), add a dimension because the model expects this shape: (batch_size, height, width, channels)\n",
    "    img_tensor /= 255.                                      # imshow expects values in the range [0, 1]\n",
    "\n",
    "    if show:\n",
    "        plt.imshow(img_tensor[0])                           \n",
    "        plt.axis('off')\n",
    "        plt.show()\n",
    "\n",
    "    return img_tensor\n",
    "\n",
    "\n",
    "if __name__ == \"__main__\":\n",
    "\n",
    "    # load model\n",
    "    model = load_model(\"model.h5\")\n",
    "\n",
    "    # image path\n",
    "    img_path = r'C:\\Users\\abirr\\Desktop\\New folder (2)\\updatedataset\\test\\close\\s0001_00019_0_0_0_0_0_01.png'    # dog\n",
    "    #img_path = '/media/data/dogscats/test1/19.jpg'      # cat\n",
    "\n",
    "    # load a single image\n",
    "    new_image = load_image(img_path)\n",
    "\n",
    "    # check prediction\n",
    "    pred = model.predict(new_image)"
   ]
  },
  {
   "cell_type": "code",
   "execution_count": null,
   "id": "16ea5885",
   "metadata": {},
   "outputs": [],
   "source": [
    "pred"
   ]
  },
  {
   "cell_type": "code",
   "execution_count": null,
   "id": "85aa2af3",
   "metadata": {},
   "outputs": [],
   "source": [
    "pred=np.round(abs(pred))\n",
    "pred = (pred > 0.3) "
   ]
  },
  {
   "cell_type": "code",
   "execution_count": null,
   "id": "598f7286",
   "metadata": {},
   "outputs": [],
   "source": [
    "pred"
   ]
  },
  {
   "cell_type": "code",
   "execution_count": null,
   "id": "15cc399b",
   "metadata": {},
   "outputs": [],
   "source": [
    "for f,g in zip(glob.glob(r'C:\\Users\\abirr\\Desktop\\New folder\\unbias\\New folder\\csv\\*.csv'),glob.glob(r'C:\\Users\\abirr\\Desktop\\New folder\\unbias\\New folder\\rgb\\*.png')) :\n",
    "    img = Image.open(g)"
   ]
  },
  {
   "cell_type": "code",
   "execution_count": null,
   "id": "53dd8ee0",
   "metadata": {},
   "outputs": [],
   "source": [
    "from keras.models import load_model\n",
    "from keras.preprocessing import image\n",
    "import matplotlib.pyplot as plt\n",
    "import numpy as np\n",
    "import os\n",
    "import os\n",
    "import glob\n",
    "import pandas as pd\n",
    "from PIL import Image\n",
    "\n",
    "def load_image(img_path, show=False):\n",
    "\n",
    "    img = image.load_img(img_path, target_size=(80, 80))\n",
    "    img_tensor = image.img_to_array(img)                    # (height, width, channels)\n",
    "    img_tensor = np.expand_dims(img_tensor, axis=0)         # (1, height, width, channels), add a dimension because the model expects this shape: (batch_size, height, width, channels)\n",
    "    img_tensor /= 255.                                      # imshow expects values in the range [0, 1]\n",
    "\n",
    "    if show:\n",
    "        plt.imshow(img_tensor[0])                           \n",
    "        plt.axis('off')\n",
    "        plt.show()\n",
    "\n",
    "    return img_tensor\n",
    "\n",
    "\n",
    "if __name__ == \"__main__\":\n",
    "\n",
    "    # load model\n",
    "    model = load_model(\"model.h5\")\n",
    "    clos =[]\n",
    "for f in glob.glob(r'C:\\Users\\abirr\\Desktop\\New folder (2)\\updatedataset\\test\\close\\*.png') :\n",
    "      \n",
    "    # image path\n",
    "    \n",
    "    #img_path = '/media/data/dogscats/test1/19.jpg'      # cat\n",
    "\n",
    "    # load a single image\n",
    "           new_image = load_image(f)\n",
    "\n",
    "    # check prediction\n",
    "           pred = model.predict(new_image)\n",
    "           clos.append(pred)   \n",
    "        "
   ]
  },
  {
   "cell_type": "code",
   "execution_count": null,
   "id": "50c518f9",
   "metadata": {},
   "outputs": [],
   "source": [
    "pred"
   ]
  },
  {
   "cell_type": "code",
   "execution_count": null,
   "id": "4924654f",
   "metadata": {},
   "outputs": [],
   "source": [
    "clos"
   ]
  },
  {
   "cell_type": "code",
   "execution_count": null,
   "id": "4a8bc111",
   "metadata": {},
   "outputs": [],
   "source": [
    "import numpy as np\n",
    "clos = np.array(clos)"
   ]
  },
  {
   "cell_type": "code",
   "execution_count": null,
   "id": "eb65728d",
   "metadata": {},
   "outputs": [],
   "source": [
    "clos"
   ]
  },
  {
   "cell_type": "code",
   "execution_count": null,
   "id": "c2abe97a",
   "metadata": {},
   "outputs": [],
   "source": [
    "clos = (clos > 0.3) "
   ]
  },
  {
   "cell_type": "code",
   "execution_count": null,
   "id": "1db96dbd",
   "metadata": {},
   "outputs": [],
   "source": [
    "clos"
   ]
  },
  {
   "cell_type": "code",
   "execution_count": null,
   "id": "7d3c72c7",
   "metadata": {},
   "outputs": [],
   "source": [
    "print(np.size(clos, 0))"
   ]
  },
  {
   "cell_type": "code",
   "execution_count": null,
   "id": "b590cb9d",
   "metadata": {},
   "outputs": [],
   "source": [
    "print(np.size(clos, 0))\n",
    " \n",
    "#gives no. of columns along y-axis\n",
    "print(np.size(clos, 1))"
   ]
  },
  {
   "cell_type": "code",
   "execution_count": null,
   "id": "45e2b602",
   "metadata": {},
   "outputs": [],
   "source": [
    "clos[1]"
   ]
  },
  {
   "cell_type": "code",
   "execution_count": null,
   "id": "9784192e",
   "metadata": {},
   "outputs": [],
   "source": [
    "clos[:,0]"
   ]
  },
  {
   "cell_type": "code",
   "execution_count": null,
   "id": "f50772b4",
   "metadata": {},
   "outputs": [],
   "source": [
    "clos=np.reshape(clos, (8390, 2))"
   ]
  },
  {
   "cell_type": "code",
   "execution_count": null,
   "id": "a3b82095",
   "metadata": {},
   "outputs": [],
   "source": [
    "close1=clos[:,0]"
   ]
  },
  {
   "cell_type": "code",
   "execution_count": null,
   "id": "6aadd124",
   "metadata": {},
   "outputs": [],
   "source": [
    "import numpy as np\n",
    "close1 = np.array(close1)"
   ]
  },
  {
   "cell_type": "code",
   "execution_count": null,
   "id": "bd7ea857",
   "metadata": {},
   "outputs": [],
   "source": [
    "close1"
   ]
  },
  {
   "cell_type": "code",
   "execution_count": null,
   "id": "23651c74",
   "metadata": {},
   "outputs": [],
   "source": [
    "an_array = np.where(close1 == True, \"close\", close1)"
   ]
  },
  {
   "cell_type": "code",
   "execution_count": null,
   "id": "68a88fad",
   "metadata": {},
   "outputs": [],
   "source": [
    "an_array1 = np.where(close1 == False, \"open\", close1)"
   ]
  },
  {
   "cell_type": "code",
   "execution_count": null,
   "id": "9c1d952d",
   "metadata": {},
   "outputs": [],
   "source": [
    "an_array1"
   ]
  },
  {
   "cell_type": "code",
   "execution_count": null,
   "id": "f53334f9",
   "metadata": {},
   "outputs": [],
   "source": [
    "x = np.where(an_array == 'open')"
   ]
  },
  {
   "cell_type": "code",
   "execution_count": null,
   "id": "a1f93aaf",
   "metadata": {},
   "outputs": [],
   "source": [
    "x"
   ]
  },
  {
   "cell_type": "code",
   "execution_count": null,
   "id": "0ff0b8a1",
   "metadata": {},
   "outputs": [],
   "source": [
    "x.size"
   ]
  },
  {
   "cell_type": "code",
   "execution_count": null,
   "id": "c881340f",
   "metadata": {},
   "outputs": [],
   "source": [
    "print(np.size(x, 1))"
   ]
  },
  {
   "cell_type": "code",
   "execution_count": null,
   "id": "fd6851b3",
   "metadata": {},
   "outputs": [],
   "source": [
    " a =np.full((8390), \"close\")"
   ]
  },
  {
   "cell_type": "code",
   "execution_count": null,
   "id": "c1a62d2b",
   "metadata": {},
   "outputs": [],
   "source": [
    "a\n"
   ]
  },
  {
   "cell_type": "code",
   "execution_count": null,
   "id": "a76e9060",
   "metadata": {},
   "outputs": [],
   "source": [
    "close1[185]"
   ]
  },
  {
   "cell_type": "code",
   "execution_count": null,
   "id": "5f26c91f",
   "metadata": {},
   "outputs": [],
   "source": [
    "from sklearn.metrics import classification_report\n",
    "print(classification_report(a, an_array))"
   ]
  },
  {
   "cell_type": "code",
   "execution_count": null,
   "id": "3403a6f5",
   "metadata": {},
   "outputs": [],
   "source": [
    "from keras.models import load_model\n",
    "from keras.preprocessing import image\n",
    "import matplotlib.pyplot as plt\n",
    "import numpy as np\n",
    "import os\n",
    "import os\n",
    "import glob\n",
    "import pandas as pd\n",
    "from PIL import Image\n",
    "\n",
    "def load_image(img_path, show=False):\n",
    "\n",
    "    img = image.load_img(img_path, target_size=(80, 80))\n",
    "    img_tensor = image.img_to_array(img)                    # (height, width, channels)\n",
    "    img_tensor = np.expand_dims(img_tensor, axis=0)         # (1, height, width, channels), add a dimension because the model expects this shape: (batch_size, height, width, channels)\n",
    "    img_tensor /= 255.                                      # imshow expects values in the range [0, 1]\n",
    "\n",
    "    if show:\n",
    "        plt.imshow(img_tensor[0])                           \n",
    "        plt.axis('off')\n",
    "        plt.show()\n",
    "\n",
    "    return img_tensor\n",
    "\n",
    "\n",
    "if __name__ == \"__main__\":\n",
    "\n",
    "    # load model\n",
    "    model = load_model(\"model.h5\")\n",
    "    ope =[]\n",
    "for f in glob.glob(r'C:\\Users\\abirr\\Desktop\\New folder (2)\\updatedataset\\test\\open\\*.png') :\n",
    "      \n",
    "    # image path\n",
    "    \n",
    "    #img_path = '/media/data/dogscats/test1/19.jpg'      # cat\n",
    "\n",
    "    # load a single image\n",
    "           new_image = load_image(f)\n",
    "\n",
    "    # check prediction\n",
    "           pred = model.predict(new_image)\n",
    "           ope.append(pred)   \n",
    "        "
   ]
  },
  {
   "cell_type": "code",
   "execution_count": 2,
   "id": "d5573bda",
   "metadata": {},
   "outputs": [
    {
     "ename": "NameError",
     "evalue": "name 'ope' is not defined",
     "output_type": "error",
     "traceback": [
      "\u001b[1;31m---------------------------------------------------------------------------\u001b[0m",
      "\u001b[1;31mNameError\u001b[0m                                 Traceback (most recent call last)",
      "\u001b[1;32m<ipython-input-2-f4b61dd55a27>\u001b[0m in \u001b[0;36m<module>\u001b[1;34m\u001b[0m\n\u001b[1;32m----> 1\u001b[1;33m \u001b[0mope\u001b[0m\u001b[1;33m\u001b[0m\u001b[1;33m\u001b[0m\u001b[0m\n\u001b[0m",
      "\u001b[1;31mNameError\u001b[0m: name 'ope' is not defined"
     ]
    }
   ],
   "source": [
    "ope"
   ]
  },
  {
   "cell_type": "code",
   "execution_count": null,
   "id": "bb75ddc9",
   "metadata": {},
   "outputs": [],
   "source": [
    "import numpy as np\n",
    "ope= np.array(ope)"
   ]
  },
  {
   "cell_type": "code",
   "execution_count": null,
   "id": "0ae299c0",
   "metadata": {},
   "outputs": [],
   "source": [
    "ope"
   ]
  },
  {
   "cell_type": "code",
   "execution_count": null,
   "id": "fd2cd583",
   "metadata": {},
   "outputs": [],
   "source": []
  }
 ],
 "metadata": {
  "kernelspec": {
   "display_name": "Python 3",
   "language": "python",
   "name": "python3"
  },
  "language_info": {
   "codemirror_mode": {
    "name": "ipython",
    "version": 3
   },
   "file_extension": ".py",
   "mimetype": "text/x-python",
   "name": "python",
   "nbconvert_exporter": "python",
   "pygments_lexer": "ipython3",
   "version": "3.8.8"
  }
 },
 "nbformat": 4,
 "nbformat_minor": 5
}
